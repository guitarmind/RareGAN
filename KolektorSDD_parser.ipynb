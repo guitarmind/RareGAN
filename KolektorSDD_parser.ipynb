{
 "cells": [
  {
   "cell_type": "code",
   "execution_count": 1,
   "id": "f3a2bf8d",
   "metadata": {},
   "outputs": [],
   "source": [
    "import numpy as np\n",
    "import pandas as pd\n",
    "import os\n",
    "import gc\n",
    "\n",
    "from PIL import Image\n",
    "import cv2\n",
    "\n",
    "import seaborn as sns\n",
    "import matplotlib.pyplot as plt\n",
    "\n",
    "import warnings\n",
    "\n",
    "warnings.filterwarnings('ignore')\n",
    "\n",
    "gc.enable()\n",
    "\n",
    "rand_seed = 1120"
   ]
  },
  {
   "cell_type": "code",
   "execution_count": 2,
   "id": "8e4a9ea1",
   "metadata": {},
   "outputs": [],
   "source": [
    "dataset_folder = \"/workspace/Kaggle/KolektorSDD\""
   ]
  },
  {
   "cell_type": "code",
   "execution_count": 3,
   "id": "9838a06f",
   "metadata": {
    "scrolled": true
   },
   "outputs": [
    {
     "name": "stdout",
     "output_type": "stream",
     "text": [
      "kos28-Part3 has defect: True\n",
      "kos41-Part7 has defect: True\n",
      "kos18-Part3 has defect: True\n",
      "kos01-Part5 has defect: True\n",
      "kos20-Part4 has defect: True\n",
      "kos49-Part2 has defect: True\n",
      "kos05-Part5 has defect: True\n",
      "kos24-Part1 has defect: True\n",
      "kos42-Part3 has defect: True\n",
      "kos09-Part6 has defect: True\n",
      "kos13-Part3 has defect: True\n",
      "kos48-Part5 has defect: True\n",
      "kos30-Part0 has defect: True\n",
      "kos31-Part1 has defect: True\n",
      "kos33-Part6 has defect: True\n",
      "kos46-Part7 has defect: True\n",
      "kos35-Part5 has defect: True\n",
      "kos25-Part4 has defect: True\n",
      "kos37-Part0 has defect: True\n",
      "kos10-Part3 has defect: True\n",
      "kos11-Part4 has defect: True\n",
      "kos43-Part1 has defect: True\n",
      "kos21-Part5 has defect: True\n",
      "kos45-Part3 has defect: True\n",
      "kos16-Part5 has defect: True\n",
      "kos19-Part5 has defect: True\n",
      "kos03-Part2 has defect: True\n",
      "kos17-Part5 has defect: True\n",
      "kos40-Part5 has defect: True\n",
      "kos22-Part6 has defect: True\n",
      "kos15-Part3 has defect: True\n",
      "kos50-Part4 has defect: True\n",
      "kos38-Part1 has defect: True\n",
      "kos38-Part0 has defect: True\n",
      "kos26-Part5 has defect: True\n",
      "kos08-Part2 has defect: True\n",
      "kos44-Part6 has defect: True\n",
      "kos27-Part0 has defect: True\n",
      "kos36-Part3 has defect: True\n",
      "kos12-Part5 has defect: True\n",
      "kos02-Part6 has defect: True\n",
      "kos47-Part2 has defect: True\n",
      "kos07-Part1 has defect: True\n",
      "kos39-Part6 has defect: True\n",
      "kos39-Part7 has defect: True\n",
      "kos06-Part7 has defect: True\n",
      "kos34-Part0 has defect: True\n",
      "kos32-Part2 has defect: True\n",
      "kos04-Part3 has defect: True\n",
      "kos23-Part6 has defect: True\n",
      "kos29-Part0 has defect: True\n",
      "kos14-Part7 has defect: True\n"
     ]
    }
   ],
   "source": [
    "dataset_inputs = {}\n",
    "dataset_labels = {}\n",
    "defective_count = 0\n",
    "for folder in os.listdir(dataset_folder):\n",
    "    for filename in os.listdir(f\"{dataset_folder}/{folder}\"):\n",
    "        # print(folder, filename)\n",
    "\n",
    "        if \".bmp\" in filename:\n",
    "            part_id = filename.split(\"_\")[0]\n",
    "\n",
    "            label_img = Image.open(f\"{dataset_folder}/{folder}/{filename}\")\n",
    "            label_img = np.array(label_img)\n",
    "            # print(label_img.shape)\n",
    "\n",
    "            if np.sum(label_img) > 0:\n",
    "                defective_count += 1\n",
    "\n",
    "                print(f\"{folder}-{part_id} has defect:\", np.sum(label_img) > 0)\n",
    "\n",
    "                dataset_labels[f\"{folder}-{part_id}\"] = label_img\n",
    "\n",
    "        else:\n",
    "            part_id = filename.split(\".\")[0]\n",
    "\n",
    "            input_img = Image.open(\n",
    "                f\"{dataset_folder}/{folder}/{filename}\").convert('L')\n",
    "            input_img = np.array(input_img)\n",
    "            # print(input_img.shape)\n",
    "\n",
    "            dataset_inputs[f\"{folder}-{part_id}\"] = input_img"
   ]
  },
  {
   "cell_type": "code",
   "execution_count": 4,
   "id": "710e78d3",
   "metadata": {},
   "outputs": [
    {
     "data": {
      "text/plain": [
       "52"
      ]
     },
     "execution_count": 4,
     "metadata": {},
     "output_type": "execute_result"
    }
   ],
   "source": [
    "defective_count"
   ]
  },
  {
   "cell_type": "code",
   "execution_count": 5,
   "id": "3b2c063b",
   "metadata": {
    "scrolled": true
   },
   "outputs": [],
   "source": [
    "# https://stackoverflow.com/questions/4808221/is-there-a-bounding-box-function-slice-with-non-zero-values-for-a-ndarray-in\n",
    "def crop_bbox(img):\n",
    "    rows = np.any(img, axis=1)\n",
    "    cols = np.any(img, axis=0)\n",
    "    ymin, ymax = np.where(rows)[0][[0, -1]]\n",
    "    xmin, xmax = np.where(cols)[0][[0, -1]]\n",
    "    return img[ymin:ymax + 1, xmin:xmax + 1], (ymin, ymax, xmin, xmax)\n",
    "\n",
    "\n",
    "resized_dataset = {}\n",
    "for key, input_image in dataset_inputs.items():\n",
    "\n",
    "    if key in dataset_labels:\n",
    "        label_image = dataset_labels[key]\n",
    "\n",
    "        # Crop center 500px\n",
    "        bbox_image, (ymin, ymax, xmin, xmax) = crop_bbox(label_image)\n",
    "\n",
    "        y_center = round((ymax + ymin) / 2)\n",
    "        x_center = round((xmax + xmin) / 2)\n",
    "\n",
    "        # print(input_image.shape, label_image.shape)\n",
    "\n",
    "        # print(ymin, ymax, xmin, xmax)\n",
    "\n",
    "        input_image = input_image[y_center - 250:y_center + 250, :]\n",
    "        label_image = label_image[y_center - 250:y_center + 250, :]\n",
    "\n",
    "        # print(input_image.shape, label_image.shape)\n",
    "\n",
    "        assert input_image.shape == label_image.shape == (500, 500)\n",
    "\n",
    "        input_image = cv2.resize(input_image, (128, 128))\n",
    "        label_image = cv2.resize(label_image, (128, 128))\n",
    "\n",
    "        assert input_image.shape == label_image.shape == (128, 128)\n",
    "\n",
    "        resized_dataset[key] = (input_image, label_image)\n",
    "\n",
    "        # plt.imshow(input_image, cmap='gray')\n",
    "        # plt.show()\n",
    "\n",
    "        # plt.imshow(label_image, cmap='gray')\n",
    "        # plt.show()\n",
    "\n",
    "        # plt.imshow(bbox_image, cmap='gray')\n",
    "        # plt.show()\n",
    "    else:\n",
    "        y_center = round(input_image.shape[0] / 2)\n",
    "\n",
    "        input_image = input_image[y_center - 250:y_center + 250, :]\n",
    "\n",
    "        assert input_image.shape == (500, 500)\n",
    "\n",
    "        input_image = cv2.resize(input_image, (128, 128))\n",
    "\n",
    "        assert input_image.shape == (128, 128)\n",
    "\n",
    "        resized_dataset[key] = (input_image, None)"
   ]
  },
  {
   "cell_type": "code",
   "execution_count": 6,
   "id": "a695ebb1",
   "metadata": {},
   "outputs": [
    {
     "data": {
      "text/plain": [
       "399"
      ]
     },
     "execution_count": 6,
     "metadata": {},
     "output_type": "execute_result"
    }
   ],
   "source": [
    "len(resized_dataset)"
   ]
  },
  {
   "cell_type": "code",
   "execution_count": null,
   "id": "e0505281",
   "metadata": {},
   "outputs": [],
   "source": []
  },
  {
   "cell_type": "code",
   "execution_count": 19,
   "id": "4facd912",
   "metadata": {},
   "outputs": [],
   "source": [
    "# https://stackoverflow.com/questions/4808221/is-there-a-bounding-box-function-slice-with-non-zero-values-for-a-ndarray-in\n",
    "def crop_bbox(img):\n",
    "    rows = np.any(img, axis=1)\n",
    "    cols = np.any(img, axis=0)\n",
    "    ymin, ymax = np.where(rows)[0][[0, -1]]\n",
    "    xmin, xmax = np.where(cols)[0][[0, -1]]\n",
    "    return img[ymin:ymax + 1, xmin:xmax + 1], (ymin, ymax, xmin, xmax)\n",
    "\n",
    "\n",
    "data_x = []\n",
    "data_y = []\n",
    "for key, input_image in dataset_inputs.items():\n",
    "\n",
    "    if key in dataset_labels:\n",
    "        label_image = dataset_labels[key]\n",
    "\n",
    "        # Crop center 500px\n",
    "        bbox_image, (ymin, ymax, xmin, xmax) = crop_bbox(label_image)\n",
    "\n",
    "        y_center = round((ymax + ymin) / 2)\n",
    "        x_center = round((xmax + xmin) / 2)\n",
    "\n",
    "        input_image = input_image[y_center - 250:y_center + 250, :]\n",
    "\n",
    "        input_image = cv2.resize(input_image, (128, 128)).astype(np.float32)\n",
    "\n",
    "        assert input_image.shape == (128, 128)\n",
    "\n",
    "        data_x.append(input_image[np.newaxis, :, :, np.newaxis] / 255)\n",
    "        data_y.append(1)\n",
    "    else:\n",
    "        y_center = round(input_image.shape[0] / 2)\n",
    "\n",
    "        input_image = input_image[y_center - 250:y_center + 250, :]\n",
    "\n",
    "        input_image = cv2.resize(input_image, (128, 128)).astype(np.float32)\n",
    "\n",
    "        assert input_image.shape == (128, 128)\n",
    "\n",
    "        data_x.append(input_image[np.newaxis, :, :, np.newaxis] / 255)\n",
    "        data_y.append(0)\n",
    "\n",
    "data_x = np.concatenate(data_x, axis=0)\n",
    "data_y = np.array(data_y, dtype=np.int32)"
   ]
  },
  {
   "cell_type": "code",
   "execution_count": 20,
   "id": "06245960",
   "metadata": {},
   "outputs": [
    {
     "data": {
      "text/plain": [
       "((399, 128, 128, 1), (399,))"
      ]
     },
     "execution_count": 20,
     "metadata": {},
     "output_type": "execute_result"
    }
   ],
   "source": [
    "data_x.shape, data_y.shape"
   ]
  },
  {
   "cell_type": "code",
   "execution_count": 21,
   "id": "c4ed2fbc",
   "metadata": {},
   "outputs": [
    {
     "data": {
      "text/plain": [
       "(0.02745098, 1.0)"
      ]
     },
     "execution_count": 21,
     "metadata": {},
     "output_type": "execute_result"
    }
   ],
   "source": [
    "data_x.min(), data_x.max()"
   ]
  },
  {
   "cell_type": "code",
   "execution_count": null,
   "id": "c5329b53",
   "metadata": {},
   "outputs": [],
   "source": []
  }
 ],
 "metadata": {
  "kernelspec": {
   "display_name": "Python 3 (ipykernel)",
   "language": "python",
   "name": "python3"
  },
  "language_info": {
   "codemirror_mode": {
    "name": "ipython",
    "version": 3
   },
   "file_extension": ".py",
   "mimetype": "text/x-python",
   "name": "python",
   "nbconvert_exporter": "python",
   "pygments_lexer": "ipython3",
   "version": "3.7.5"
  }
 },
 "nbformat": 4,
 "nbformat_minor": 5
}
